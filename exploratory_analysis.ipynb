{
 "cells": [
  {
   "cell_type": "markdown",
   "metadata": {},
   "source": [
    "# Kaggle Renthop Competition\n",
    "\n",
    "https://www.kaggle.com/c/two-sigma-connect-rental-listing-inquiries\n",
    "\n",
    "## Exploratory Analysis"
   ]
  },
  {
   "cell_type": "code",
   "execution_count": 13,
   "metadata": {
    "collapsed": false
   },
   "outputs": [],
   "source": [
    "# imports etc.\n",
    "import pandas as pd\n",
    "import matplotlib.pyplot as plt\n",
    "%matplotlib inline"
   ]
  },
  {
   "cell_type": "code",
   "execution_count": 2,
   "metadata": {
    "collapsed": true
   },
   "outputs": [],
   "source": [
    "# Read in the training data to a Pandas dataframe\n",
    "train = pd.read_json('./train.json')"
   ]
  },
  {
   "cell_type": "code",
   "execution_count": 3,
   "metadata": {
    "collapsed": false
   },
   "outputs": [
    {
     "data": {
      "text/html": [
       "<div>\n",
       "<table border=\"1\" class=\"dataframe\">\n",
       "  <thead>\n",
       "    <tr style=\"text-align: right;\">\n",
       "      <th></th>\n",
       "      <th>bathrooms</th>\n",
       "      <th>bedrooms</th>\n",
       "      <th>building_id</th>\n",
       "      <th>created</th>\n",
       "      <th>description</th>\n",
       "      <th>display_address</th>\n",
       "      <th>features</th>\n",
       "      <th>interest_level</th>\n",
       "      <th>latitude</th>\n",
       "      <th>listing_id</th>\n",
       "      <th>longitude</th>\n",
       "      <th>manager_id</th>\n",
       "      <th>photos</th>\n",
       "      <th>price</th>\n",
       "      <th>street_address</th>\n",
       "    </tr>\n",
       "  </thead>\n",
       "  <tbody>\n",
       "    <tr>\n",
       "      <th>10.0</th>\n",
       "      <td>1.5</td>\n",
       "      <td>3</td>\n",
       "      <td>53a5b119ba8f7b61d4e010512e0dfc85</td>\n",
       "      <td>2016-06-24 07:54:24</td>\n",
       "      <td>A Brand New 3 Bedroom 1.5 bath ApartmentEnjoy ...</td>\n",
       "      <td>Metropolitan Avenue</td>\n",
       "      <td>[]</td>\n",
       "      <td>medium</td>\n",
       "      <td>40.7145</td>\n",
       "      <td>7211212</td>\n",
       "      <td>-73.9425</td>\n",
       "      <td>5ba989232d0489da1b5f2c45f6688adc</td>\n",
       "      <td>[https://photos.renthop.com/2/7211212_1ed4542e...</td>\n",
       "      <td>3000</td>\n",
       "      <td>792 Metropolitan Avenue</td>\n",
       "    </tr>\n",
       "    <tr>\n",
       "      <th>10000.0</th>\n",
       "      <td>1.0</td>\n",
       "      <td>2</td>\n",
       "      <td>c5c8a357cba207596b04d1afd1e4f130</td>\n",
       "      <td>2016-06-12 12:19:27</td>\n",
       "      <td></td>\n",
       "      <td>Columbus Avenue</td>\n",
       "      <td>[Doorman, Elevator, Fitness Center, Cats Allow...</td>\n",
       "      <td>low</td>\n",
       "      <td>40.7947</td>\n",
       "      <td>7150865</td>\n",
       "      <td>-73.9667</td>\n",
       "      <td>7533621a882f71e25173b27e3139d83d</td>\n",
       "      <td>[https://photos.renthop.com/2/7150865_be3306c5...</td>\n",
       "      <td>5465</td>\n",
       "      <td>808 Columbus Avenue</td>\n",
       "    </tr>\n",
       "    <tr>\n",
       "      <th>100004.0</th>\n",
       "      <td>1.0</td>\n",
       "      <td>1</td>\n",
       "      <td>c3ba40552e2120b0acfc3cb5730bb2aa</td>\n",
       "      <td>2016-04-17 03:26:41</td>\n",
       "      <td>Top Top West Village location, beautiful Pre-w...</td>\n",
       "      <td>W 13 Street</td>\n",
       "      <td>[Laundry In Building, Dishwasher, Hardwood Flo...</td>\n",
       "      <td>high</td>\n",
       "      <td>40.7388</td>\n",
       "      <td>6887163</td>\n",
       "      <td>-74.0018</td>\n",
       "      <td>d9039c43983f6e564b1482b273bd7b01</td>\n",
       "      <td>[https://photos.renthop.com/2/6887163_de85c427...</td>\n",
       "      <td>2850</td>\n",
       "      <td>241 W 13 Street</td>\n",
       "    </tr>\n",
       "    <tr>\n",
       "      <th>100007.0</th>\n",
       "      <td>1.0</td>\n",
       "      <td>1</td>\n",
       "      <td>28d9ad350afeaab8027513a3e52ac8d5</td>\n",
       "      <td>2016-04-18 02:22:02</td>\n",
       "      <td>Building Amenities - Garage - Garden - fitness...</td>\n",
       "      <td>East 49th Street</td>\n",
       "      <td>[Hardwood Floors, No Fee]</td>\n",
       "      <td>low</td>\n",
       "      <td>40.7539</td>\n",
       "      <td>6888711</td>\n",
       "      <td>-73.9677</td>\n",
       "      <td>1067e078446a7897d2da493d2f741316</td>\n",
       "      <td>[https://photos.renthop.com/2/6888711_6e660cee...</td>\n",
       "      <td>3275</td>\n",
       "      <td>333 East 49th Street</td>\n",
       "    </tr>\n",
       "    <tr>\n",
       "      <th>100013.0</th>\n",
       "      <td>1.0</td>\n",
       "      <td>4</td>\n",
       "      <td>0</td>\n",
       "      <td>2016-04-28 01:32:41</td>\n",
       "      <td>Beautifully renovated 3 bedroom flex 4 bedroom...</td>\n",
       "      <td>West 143rd Street</td>\n",
       "      <td>[Pre-War]</td>\n",
       "      <td>low</td>\n",
       "      <td>40.8241</td>\n",
       "      <td>6934781</td>\n",
       "      <td>-73.9493</td>\n",
       "      <td>98e13ad4b495b9613cef886d79a6291f</td>\n",
       "      <td>[https://photos.renthop.com/2/6934781_1fa4b41a...</td>\n",
       "      <td>3350</td>\n",
       "      <td>500 West 143rd Street</td>\n",
       "    </tr>\n",
       "  </tbody>\n",
       "</table>\n",
       "</div>"
      ],
      "text/plain": [
       "          bathrooms  bedrooms                       building_id  \\\n",
       "10.0            1.5         3  53a5b119ba8f7b61d4e010512e0dfc85   \n",
       "10000.0         1.0         2  c5c8a357cba207596b04d1afd1e4f130   \n",
       "100004.0        1.0         1  c3ba40552e2120b0acfc3cb5730bb2aa   \n",
       "100007.0        1.0         1  28d9ad350afeaab8027513a3e52ac8d5   \n",
       "100013.0        1.0         4                                 0   \n",
       "\n",
       "                      created  \\\n",
       "10.0      2016-06-24 07:54:24   \n",
       "10000.0   2016-06-12 12:19:27   \n",
       "100004.0  2016-04-17 03:26:41   \n",
       "100007.0  2016-04-18 02:22:02   \n",
       "100013.0  2016-04-28 01:32:41   \n",
       "\n",
       "                                                description  \\\n",
       "10.0      A Brand New 3 Bedroom 1.5 bath ApartmentEnjoy ...   \n",
       "10000.0                                                       \n",
       "100004.0  Top Top West Village location, beautiful Pre-w...   \n",
       "100007.0  Building Amenities - Garage - Garden - fitness...   \n",
       "100013.0  Beautifully renovated 3 bedroom flex 4 bedroom...   \n",
       "\n",
       "              display_address  \\\n",
       "10.0      Metropolitan Avenue   \n",
       "10000.0       Columbus Avenue   \n",
       "100004.0          W 13 Street   \n",
       "100007.0     East 49th Street   \n",
       "100013.0    West 143rd Street   \n",
       "\n",
       "                                                   features interest_level  \\\n",
       "10.0                                                     []         medium   \n",
       "10000.0   [Doorman, Elevator, Fitness Center, Cats Allow...            low   \n",
       "100004.0  [Laundry In Building, Dishwasher, Hardwood Flo...           high   \n",
       "100007.0                          [Hardwood Floors, No Fee]            low   \n",
       "100013.0                                          [Pre-War]            low   \n",
       "\n",
       "          latitude  listing_id  longitude                        manager_id  \\\n",
       "10.0       40.7145     7211212   -73.9425  5ba989232d0489da1b5f2c45f6688adc   \n",
       "10000.0    40.7947     7150865   -73.9667  7533621a882f71e25173b27e3139d83d   \n",
       "100004.0   40.7388     6887163   -74.0018  d9039c43983f6e564b1482b273bd7b01   \n",
       "100007.0   40.7539     6888711   -73.9677  1067e078446a7897d2da493d2f741316   \n",
       "100013.0   40.8241     6934781   -73.9493  98e13ad4b495b9613cef886d79a6291f   \n",
       "\n",
       "                                                     photos  price  \\\n",
       "10.0      [https://photos.renthop.com/2/7211212_1ed4542e...   3000   \n",
       "10000.0   [https://photos.renthop.com/2/7150865_be3306c5...   5465   \n",
       "100004.0  [https://photos.renthop.com/2/6887163_de85c427...   2850   \n",
       "100007.0  [https://photos.renthop.com/2/6888711_6e660cee...   3275   \n",
       "100013.0  [https://photos.renthop.com/2/6934781_1fa4b41a...   3350   \n",
       "\n",
       "                   street_address  \n",
       "10.0      792 Metropolitan Avenue  \n",
       "10000.0       808 Columbus Avenue  \n",
       "100004.0          241 W 13 Street  \n",
       "100007.0     333 East 49th Street  \n",
       "100013.0    500 West 143rd Street  "
      ]
     },
     "execution_count": 3,
     "metadata": {},
     "output_type": "execute_result"
    }
   ],
   "source": [
    "# Have a look at the dataframe\n",
    "train.head()"
   ]
  },
  {
   "cell_type": "markdown",
   "metadata": {},
   "source": [
    "First let's understand the target variable *interest_level*."
   ]
  },
  {
   "cell_type": "code",
   "execution_count": 53,
   "metadata": {
    "collapsed": false
   },
   "outputs": [
    {
     "name": "stdout",
     "output_type": "stream",
     "text": [
      "low       34284\n",
      "medium    11229\n",
      "high       3839\n",
      "Name: interest_level, dtype: int64\n"
     ]
    }
   ],
   "source": [
    "print train['interest_level'].value_counts()"
   ]
  },
  {
   "cell_type": "code",
   "execution_count": 71,
   "metadata": {
    "collapsed": false
   },
   "outputs": [
    {
     "data": {
      "text/plain": [
       "low       0.694683\n",
       "medium    0.227529\n",
       "high      0.077788\n",
       "Name: interest_level, dtype: float64"
      ]
     },
     "execution_count": 71,
     "metadata": {},
     "output_type": "execute_result"
    }
   ],
   "source": [
    "train['interest_level'].value_counts(1)"
   ]
  },
  {
   "cell_type": "code",
   "execution_count": 4,
   "metadata": {
    "collapsed": false
   },
   "outputs": [
    {
     "data": {
      "text/plain": [
       "49352"
      ]
     },
     "execution_count": 4,
     "metadata": {},
     "output_type": "execute_result"
    }
   ],
   "source": [
    "# How many rows are in the dataset?\n",
    "len(train)"
   ]
  },
  {
   "cell_type": "code",
   "execution_count": 44,
   "metadata": {
    "collapsed": false
   },
   "outputs": [
    {
     "data": {
      "text/plain": [
       "bathrooms          float64\n",
       "bedrooms             int64\n",
       "building_id         object\n",
       "created             object\n",
       "description         object\n",
       "display_address     object\n",
       "features            object\n",
       "interest_level      object\n",
       "latitude           float64\n",
       "listing_id           int64\n",
       "longitude          float64\n",
       "manager_id          object\n",
       "photos              object\n",
       "price                int64\n",
       "street_address      object\n",
       "dtype: object"
      ]
     },
     "execution_count": 44,
     "metadata": {},
     "output_type": "execute_result"
    }
   ],
   "source": [
    "# What are the data types of the columns?\n",
    "train.dtypes"
   ]
  },
  {
   "cell_type": "code",
   "execution_count": 46,
   "metadata": {
    "collapsed": false
   },
   "outputs": [
    {
     "name": "stdout",
     "output_type": "stream",
     "text": [
      "No null values!\n"
     ]
    }
   ],
   "source": [
    "# See if there are any null values to take care of.\n",
    "null_count = 0\n",
    "for col in train.columns:\n",
    "    if train[col].count() < len(train):\n",
    "        print col,' contains',len(train) - train[col].count(),' null values.'\n",
    "        null_count += 1\n",
    "if null_count == 0: print 'No null values!'"
   ]
  },
  {
   "cell_type": "markdown",
   "metadata": {},
   "source": [
    "We can see in the *train.head* above that the 'features' column contains lists of features for each apartment listing. The features of the apartment could be a good indicator of how much interest it will receive, so we can look to expand the lists so that each item becomes a boolean feature for each listing. Then we can start to examine which features are most common, and start to explore correlations with "
   ]
  },
  {
   "cell_type": "code",
   "execution_count": 7,
   "metadata": {
    "collapsed": false
   },
   "outputs": [
    {
     "data": {
      "text/html": [
       "<div>\n",
       "<table border=\"1\" class=\"dataframe\">\n",
       "  <thead>\n",
       "    <tr style=\"text-align: right;\">\n",
       "      <th></th>\n",
       "      <th>!!!!LOW FEE!!!!</th>\n",
       "      <th>** BROWNSTONE BEAUTY * MASSIVE 2BR HOME * STEPS TO THE PARK * SS KITCHEN * DISHWASHER * OVERSIZED CLOSETS * NEAR COLUMBIA U **</th>\n",
       "      <th>** CLASSY CLINTON HOME * MASSIVE 1BR * GOURMET KITCHEN * EXPOSED BRICK * ROOMY CLOSETS **</th>\n",
       "      <th>** CLASSY CONDO GEM! * MASSIVE 2BR SUPER SHARE * GOURMET KITCHEN * PERFECT SUN * CHIC CHELSEA LOCALE! **</th>\n",
       "      <th>** COURT SQUARE GEM! * LIC LUXURY 2BR HOME * SS KITCHEN ~ DISHWASHER * BAY WINDOWS * FIREPLACE * ALL NEW! **</th>\n",
       "      <th>** COURT SQUARE GEM! * SPRAWLING SUNDRENCHED 2BR HOME * CUSTOM FINISHES * DISHWASHER * FIREPLACES * EAT-IN KITCHEN * BAY WINDOWS **</th>\n",
       "      <th>** EAST VILLAGE EXTRAVAGANZA * MASSIVE 2BR HOME * PERFECT SHARE * COOK'S KITCHEN * PERFECT NATURAL LIGHT **</th>\n",
       "      <th>** ELEGANT E50s!! * SPRAWLING SUNDRENCHED 2BR HOME * FRENCH DRS * BREAKFAST BAR * DISHWASHER * EAT-IN KITCHEN * WALK-IN CLOSETS! **</th>\n",
       "      <th>** ENTIRE FLOOR! * SPRAWLING 2BR HOME * IMMACULATE RENOVATIONS * FIREPLACE * 2 BLKS TO BEDFORD L STOP **</th>\n",
       "      <th>** EXQUISITE RIVERSIDE SPECIAL! * STUNNING STUDIO DUPLEX * FIREPLACE * GUT RENOVATED * STEPS TO THE PARK! **</th>\n",
       "      <th>...</th>\n",
       "      <th>renovatedspaciousmust seejune 1st occupancy</th>\n",
       "      <th>terracePrivate terrace</th>\n",
       "      <th>terraceWasher/DryerPre-WarPrivate terrace</th>\n",
       "      <th>terraceviewCity viewDuplexPrivate outdoor spacePrivate terrace</th>\n",
       "      <th>viewCity viewDishwasherNewly renovatedNo petsPre-War</th>\n",
       "      <th>viewDishwasherDuplexNewly renovatedPark viewWasher/DryerCats AllowedDogs Allowed</th>\n",
       "      <th>viewElevatorAir conditioningCity viewDishwasherWasher/DryerCommon parking/GarageCommon roof deckLive-in superintendentNew constructionCats AllowedDogs AllowedStorage</th>\n",
       "      <th>viewElevatorAir conditioningNewly renovatedPark viewNo petsOn-site laundry</th>\n",
       "      <th>viewElevatorDishwasherNewly renovatedPark viewStorageLive-in superintendentOn-site laundryCats AllowedDogs AllowedPets on approvalPre-War</th>\n",
       "      <th>viewFireplacePark viewPre-War</th>\n",
       "    </tr>\n",
       "  </thead>\n",
       "  <tbody>\n",
       "    <tr>\n",
       "      <th>10000.0</th>\n",
       "      <td>0.0</td>\n",
       "      <td>0.0</td>\n",
       "      <td>0.0</td>\n",
       "      <td>0.0</td>\n",
       "      <td>0.0</td>\n",
       "      <td>0.0</td>\n",
       "      <td>0.0</td>\n",
       "      <td>0.0</td>\n",
       "      <td>0.0</td>\n",
       "      <td>0.0</td>\n",
       "      <td>...</td>\n",
       "      <td>0.0</td>\n",
       "      <td>0.0</td>\n",
       "      <td>0.0</td>\n",
       "      <td>0.0</td>\n",
       "      <td>0.0</td>\n",
       "      <td>0.0</td>\n",
       "      <td>0.0</td>\n",
       "      <td>0.0</td>\n",
       "      <td>0.0</td>\n",
       "      <td>0.0</td>\n",
       "    </tr>\n",
       "    <tr>\n",
       "      <th>100004.0</th>\n",
       "      <td>0.0</td>\n",
       "      <td>0.0</td>\n",
       "      <td>0.0</td>\n",
       "      <td>0.0</td>\n",
       "      <td>0.0</td>\n",
       "      <td>0.0</td>\n",
       "      <td>0.0</td>\n",
       "      <td>0.0</td>\n",
       "      <td>0.0</td>\n",
       "      <td>0.0</td>\n",
       "      <td>...</td>\n",
       "      <td>0.0</td>\n",
       "      <td>0.0</td>\n",
       "      <td>0.0</td>\n",
       "      <td>0.0</td>\n",
       "      <td>0.0</td>\n",
       "      <td>0.0</td>\n",
       "      <td>0.0</td>\n",
       "      <td>0.0</td>\n",
       "      <td>0.0</td>\n",
       "      <td>0.0</td>\n",
       "    </tr>\n",
       "    <tr>\n",
       "      <th>100007.0</th>\n",
       "      <td>0.0</td>\n",
       "      <td>0.0</td>\n",
       "      <td>0.0</td>\n",
       "      <td>0.0</td>\n",
       "      <td>0.0</td>\n",
       "      <td>0.0</td>\n",
       "      <td>0.0</td>\n",
       "      <td>0.0</td>\n",
       "      <td>0.0</td>\n",
       "      <td>0.0</td>\n",
       "      <td>...</td>\n",
       "      <td>0.0</td>\n",
       "      <td>0.0</td>\n",
       "      <td>0.0</td>\n",
       "      <td>0.0</td>\n",
       "      <td>0.0</td>\n",
       "      <td>0.0</td>\n",
       "      <td>0.0</td>\n",
       "      <td>0.0</td>\n",
       "      <td>0.0</td>\n",
       "      <td>0.0</td>\n",
       "    </tr>\n",
       "    <tr>\n",
       "      <th>100013.0</th>\n",
       "      <td>0.0</td>\n",
       "      <td>0.0</td>\n",
       "      <td>0.0</td>\n",
       "      <td>0.0</td>\n",
       "      <td>0.0</td>\n",
       "      <td>0.0</td>\n",
       "      <td>0.0</td>\n",
       "      <td>0.0</td>\n",
       "      <td>0.0</td>\n",
       "      <td>0.0</td>\n",
       "      <td>...</td>\n",
       "      <td>0.0</td>\n",
       "      <td>0.0</td>\n",
       "      <td>0.0</td>\n",
       "      <td>0.0</td>\n",
       "      <td>0.0</td>\n",
       "      <td>0.0</td>\n",
       "      <td>0.0</td>\n",
       "      <td>0.0</td>\n",
       "      <td>0.0</td>\n",
       "      <td>0.0</td>\n",
       "    </tr>\n",
       "    <tr>\n",
       "      <th>100016.0</th>\n",
       "      <td>0.0</td>\n",
       "      <td>0.0</td>\n",
       "      <td>0.0</td>\n",
       "      <td>0.0</td>\n",
       "      <td>0.0</td>\n",
       "      <td>0.0</td>\n",
       "      <td>0.0</td>\n",
       "      <td>0.0</td>\n",
       "      <td>0.0</td>\n",
       "      <td>0.0</td>\n",
       "      <td>...</td>\n",
       "      <td>0.0</td>\n",
       "      <td>0.0</td>\n",
       "      <td>0.0</td>\n",
       "      <td>0.0</td>\n",
       "      <td>0.0</td>\n",
       "      <td>0.0</td>\n",
       "      <td>0.0</td>\n",
       "      <td>0.0</td>\n",
       "      <td>0.0</td>\n",
       "      <td>0.0</td>\n",
       "    </tr>\n",
       "  </tbody>\n",
       "</table>\n",
       "<p>5 rows × 10253 columns</p>\n",
       "</div>"
      ],
      "text/plain": [
       "          !!!!LOW FEE!!!!  \\\n",
       "10000.0               0.0   \n",
       "100004.0              0.0   \n",
       "100007.0              0.0   \n",
       "100013.0              0.0   \n",
       "100016.0              0.0   \n",
       "\n",
       "          ** BROWNSTONE BEAUTY * MASSIVE 2BR HOME * STEPS TO THE PARK * SS KITCHEN * DISHWASHER * OVERSIZED CLOSETS * NEAR COLUMBIA U **  \\\n",
       "10000.0                                                 0.0                                                                                \n",
       "100004.0                                                0.0                                                                                \n",
       "100007.0                                                0.0                                                                                \n",
       "100013.0                                                0.0                                                                                \n",
       "100016.0                                                0.0                                                                                \n",
       "\n",
       "          ** CLASSY CLINTON HOME * MASSIVE 1BR * GOURMET KITCHEN * EXPOSED BRICK * ROOMY CLOSETS **  \\\n",
       "10000.0                                                 0.0                                           \n",
       "100004.0                                                0.0                                           \n",
       "100007.0                                                0.0                                           \n",
       "100013.0                                                0.0                                           \n",
       "100016.0                                                0.0                                           \n",
       "\n",
       "          ** CLASSY CONDO GEM! * MASSIVE 2BR SUPER SHARE * GOURMET KITCHEN * PERFECT SUN * CHIC CHELSEA LOCALE! **  \\\n",
       "10000.0                                                 0.0                                                          \n",
       "100004.0                                                0.0                                                          \n",
       "100007.0                                                0.0                                                          \n",
       "100013.0                                                0.0                                                          \n",
       "100016.0                                                0.0                                                          \n",
       "\n",
       "          ** COURT SQUARE GEM! * LIC LUXURY 2BR HOME * SS KITCHEN ~ DISHWASHER * BAY WINDOWS * FIREPLACE * ALL NEW! **  \\\n",
       "10000.0                                                 0.0                                                              \n",
       "100004.0                                                0.0                                                              \n",
       "100007.0                                                0.0                                                              \n",
       "100013.0                                                0.0                                                              \n",
       "100016.0                                                0.0                                                              \n",
       "\n",
       "          ** COURT SQUARE GEM! * SPRAWLING SUNDRENCHED 2BR HOME * CUSTOM FINISHES * DISHWASHER * FIREPLACES * EAT-IN KITCHEN * BAY WINDOWS **  \\\n",
       "10000.0                                                 0.0                                                                                     \n",
       "100004.0                                                0.0                                                                                     \n",
       "100007.0                                                0.0                                                                                     \n",
       "100013.0                                                0.0                                                                                     \n",
       "100016.0                                                0.0                                                                                     \n",
       "\n",
       "          ** EAST VILLAGE EXTRAVAGANZA * MASSIVE 2BR HOME * PERFECT SHARE * COOK'S KITCHEN * PERFECT NATURAL LIGHT **  \\\n",
       "10000.0                                                 0.0                                                             \n",
       "100004.0                                                0.0                                                             \n",
       "100007.0                                                0.0                                                             \n",
       "100013.0                                                0.0                                                             \n",
       "100016.0                                                0.0                                                             \n",
       "\n",
       "          ** ELEGANT E50s!! * SPRAWLING SUNDRENCHED 2BR HOME * FRENCH DRS * BREAKFAST BAR * DISHWASHER * EAT-IN KITCHEN * WALK-IN CLOSETS! **  \\\n",
       "10000.0                                                 0.0                                                                                     \n",
       "100004.0                                                0.0                                                                                     \n",
       "100007.0                                                0.0                                                                                     \n",
       "100013.0                                                0.0                                                                                     \n",
       "100016.0                                                0.0                                                                                     \n",
       "\n",
       "          ** ENTIRE FLOOR! * SPRAWLING 2BR HOME * IMMACULATE RENOVATIONS * FIREPLACE * 2 BLKS TO BEDFORD L STOP **  \\\n",
       "10000.0                                                 0.0                                                          \n",
       "100004.0                                                0.0                                                          \n",
       "100007.0                                                0.0                                                          \n",
       "100013.0                                                0.0                                                          \n",
       "100016.0                                                0.0                                                          \n",
       "\n",
       "          ** EXQUISITE RIVERSIDE SPECIAL! * STUNNING STUDIO DUPLEX * FIREPLACE * GUT RENOVATED * STEPS TO THE PARK! **  \\\n",
       "10000.0                                                 0.0                                                              \n",
       "100004.0                                                0.0                                                              \n",
       "100007.0                                                0.0                                                              \n",
       "100013.0                                                0.0                                                              \n",
       "100016.0                                                0.0                                                              \n",
       "\n",
       "                      ...                \\\n",
       "10000.0               ...                 \n",
       "100004.0              ...                 \n",
       "100007.0              ...                 \n",
       "100013.0              ...                 \n",
       "100016.0              ...                 \n",
       "\n",
       "          renovatedspaciousmust seejune 1st occupancy  terracePrivate terrace  \\\n",
       "10000.0                                           0.0                     0.0   \n",
       "100004.0                                          0.0                     0.0   \n",
       "100007.0                                          0.0                     0.0   \n",
       "100013.0                                          0.0                     0.0   \n",
       "100016.0                                          0.0                     0.0   \n",
       "\n",
       "          terraceWasher/DryerPre-WarPrivate terrace  \\\n",
       "10000.0                                         0.0   \n",
       "100004.0                                        0.0   \n",
       "100007.0                                        0.0   \n",
       "100013.0                                        0.0   \n",
       "100016.0                                        0.0   \n",
       "\n",
       "          terraceviewCity viewDuplexPrivate outdoor spacePrivate terrace  \\\n",
       "10000.0                                                 0.0                \n",
       "100004.0                                                0.0                \n",
       "100007.0                                                0.0                \n",
       "100013.0                                                0.0                \n",
       "100016.0                                                0.0                \n",
       "\n",
       "          viewCity viewDishwasherNewly renovatedNo petsPre-War  \\\n",
       "10000.0                                                 0.0      \n",
       "100004.0                                                0.0      \n",
       "100007.0                                                0.0      \n",
       "100013.0                                                0.0      \n",
       "100016.0                                                0.0      \n",
       "\n",
       "          viewDishwasherDuplexNewly renovatedPark viewWasher/DryerCats AllowedDogs Allowed  \\\n",
       "10000.0                                                 0.0                                  \n",
       "100004.0                                                0.0                                  \n",
       "100007.0                                                0.0                                  \n",
       "100013.0                                                0.0                                  \n",
       "100016.0                                                0.0                                  \n",
       "\n",
       "          viewElevatorAir conditioningCity viewDishwasherWasher/DryerCommon parking/GarageCommon roof deckLive-in superintendentNew constructionCats AllowedDogs AllowedStorage  \\\n",
       "10000.0                                                 0.0                                                                                                                       \n",
       "100004.0                                                0.0                                                                                                                       \n",
       "100007.0                                                0.0                                                                                                                       \n",
       "100013.0                                                0.0                                                                                                                       \n",
       "100016.0                                                0.0                                                                                                                       \n",
       "\n",
       "          viewElevatorAir conditioningNewly renovatedPark viewNo petsOn-site laundry  \\\n",
       "10000.0                                                 0.0                            \n",
       "100004.0                                                0.0                            \n",
       "100007.0                                                0.0                            \n",
       "100013.0                                                0.0                            \n",
       "100016.0                                                0.0                            \n",
       "\n",
       "          viewElevatorDishwasherNewly renovatedPark viewStorageLive-in superintendentOn-site laundryCats AllowedDogs AllowedPets on approvalPre-War  \\\n",
       "10000.0                                                 0.0                                                                                           \n",
       "100004.0                                                0.0                                                                                           \n",
       "100007.0                                                0.0                                                                                           \n",
       "100013.0                                                0.0                                                                                           \n",
       "100016.0                                                0.0                                                                                           \n",
       "\n",
       "          viewFireplacePark viewPre-War  \n",
       "10000.0                             0.0  \n",
       "100004.0                            0.0  \n",
       "100007.0                            0.0  \n",
       "100013.0                            0.0  \n",
       "100016.0                            0.0  \n",
       "\n",
       "[5 rows x 10253 columns]"
      ]
     },
     "execution_count": 7,
     "metadata": {},
     "output_type": "execute_result"
    }
   ],
   "source": [
    "# Get all the unique feature types and turn them into boolean columns.\n",
    "\n",
    "# This line will create a new dataframe of dummy columns for each feature in the lists in the 'features' column\n",
    "features_columns = pd.get_dummies(train['features'].apply(pd.Series).stack().sum(level=0))\n",
    "features_columns.head()"
   ]
  },
  {
   "cell_type": "markdown",
   "metadata": {},
   "source": [
    "From just looking at the preview we can see the just dummying the 'features' column may not be productive - lots of the individual items pulled from the lists actually contain multiple feature values, and to make things more complicated, there is no consistency in how features are separated; for example:\n",
    "\n",
    "> \\*\\* COURT SQUARE GEM! \\* LIC LUXURY 2BR HOME \\* SS KITCHEN ~ DISHWASHER \\* BAY WINDOWS \\* FIREPLACE \\* ALL NEW! \\*\\* \n",
    "\n",
    "compared to\n",
    "\n",
    "> viewElevatorAir conditioningNewly renovatedPark viewNo petsOn-site laundry\n",
    "\n"
   ]
  },
  {
   "cell_type": "code",
   "execution_count": 43,
   "metadata": {
    "collapsed": true
   },
   "outputs": [],
   "source": [
    "# Now we can merge the dummy columns into the train dataframe\n",
    "train_with_dummies = pd.merge(train,features_columns,how='left',left_index=True,right_index=True)"
   ]
  },
  {
   "cell_type": "code",
   "execution_count": 10,
   "metadata": {
    "collapsed": false
   },
   "outputs": [
    {
     "data": {
      "text/html": [
       "<div>\n",
       "<table border=\"1\" class=\"dataframe\">\n",
       "  <thead>\n",
       "    <tr style=\"text-align: right;\">\n",
       "      <th></th>\n",
       "      <th>bathrooms</th>\n",
       "      <th>bedrooms</th>\n",
       "      <th>building_id</th>\n",
       "      <th>created</th>\n",
       "      <th>description</th>\n",
       "      <th>display_address</th>\n",
       "      <th>features</th>\n",
       "      <th>interest_level</th>\n",
       "      <th>latitude</th>\n",
       "      <th>listing_id</th>\n",
       "      <th>...</th>\n",
       "      <th>renovatedspaciousmust seejune 1st occupancy</th>\n",
       "      <th>terracePrivate terrace</th>\n",
       "      <th>terraceWasher/DryerPre-WarPrivate terrace</th>\n",
       "      <th>terraceviewCity viewDuplexPrivate outdoor spacePrivate terrace</th>\n",
       "      <th>viewCity viewDishwasherNewly renovatedNo petsPre-War</th>\n",
       "      <th>viewDishwasherDuplexNewly renovatedPark viewWasher/DryerCats AllowedDogs Allowed</th>\n",
       "      <th>viewElevatorAir conditioningCity viewDishwasherWasher/DryerCommon parking/GarageCommon roof deckLive-in superintendentNew constructionCats AllowedDogs AllowedStorage</th>\n",
       "      <th>viewElevatorAir conditioningNewly renovatedPark viewNo petsOn-site laundry</th>\n",
       "      <th>viewElevatorDishwasherNewly renovatedPark viewStorageLive-in superintendentOn-site laundryCats AllowedDogs AllowedPets on approvalPre-War</th>\n",
       "      <th>viewFireplacePark viewPre-War</th>\n",
       "    </tr>\n",
       "  </thead>\n",
       "  <tbody>\n",
       "    <tr>\n",
       "      <th>10.0</th>\n",
       "      <td>1.5</td>\n",
       "      <td>3</td>\n",
       "      <td>53a5b119ba8f7b61d4e010512e0dfc85</td>\n",
       "      <td>2016-06-24 07:54:24</td>\n",
       "      <td>A Brand New 3 Bedroom 1.5 bath ApartmentEnjoy ...</td>\n",
       "      <td>Metropolitan Avenue</td>\n",
       "      <td>[]</td>\n",
       "      <td>medium</td>\n",
       "      <td>40.7145</td>\n",
       "      <td>7211212</td>\n",
       "      <td>...</td>\n",
       "      <td>NaN</td>\n",
       "      <td>NaN</td>\n",
       "      <td>NaN</td>\n",
       "      <td>NaN</td>\n",
       "      <td>NaN</td>\n",
       "      <td>NaN</td>\n",
       "      <td>NaN</td>\n",
       "      <td>NaN</td>\n",
       "      <td>NaN</td>\n",
       "      <td>NaN</td>\n",
       "    </tr>\n",
       "    <tr>\n",
       "      <th>10000.0</th>\n",
       "      <td>1.0</td>\n",
       "      <td>2</td>\n",
       "      <td>c5c8a357cba207596b04d1afd1e4f130</td>\n",
       "      <td>2016-06-12 12:19:27</td>\n",
       "      <td></td>\n",
       "      <td>Columbus Avenue</td>\n",
       "      <td>[Doorman, Elevator, Fitness Center, Cats Allow...</td>\n",
       "      <td>low</td>\n",
       "      <td>40.7947</td>\n",
       "      <td>7150865</td>\n",
       "      <td>...</td>\n",
       "      <td>0.0</td>\n",
       "      <td>0.0</td>\n",
       "      <td>0.0</td>\n",
       "      <td>0.0</td>\n",
       "      <td>0.0</td>\n",
       "      <td>0.0</td>\n",
       "      <td>0.0</td>\n",
       "      <td>0.0</td>\n",
       "      <td>0.0</td>\n",
       "      <td>0.0</td>\n",
       "    </tr>\n",
       "    <tr>\n",
       "      <th>100004.0</th>\n",
       "      <td>1.0</td>\n",
       "      <td>1</td>\n",
       "      <td>c3ba40552e2120b0acfc3cb5730bb2aa</td>\n",
       "      <td>2016-04-17 03:26:41</td>\n",
       "      <td>Top Top West Village location, beautiful Pre-w...</td>\n",
       "      <td>W 13 Street</td>\n",
       "      <td>[Laundry In Building, Dishwasher, Hardwood Flo...</td>\n",
       "      <td>high</td>\n",
       "      <td>40.7388</td>\n",
       "      <td>6887163</td>\n",
       "      <td>...</td>\n",
       "      <td>0.0</td>\n",
       "      <td>0.0</td>\n",
       "      <td>0.0</td>\n",
       "      <td>0.0</td>\n",
       "      <td>0.0</td>\n",
       "      <td>0.0</td>\n",
       "      <td>0.0</td>\n",
       "      <td>0.0</td>\n",
       "      <td>0.0</td>\n",
       "      <td>0.0</td>\n",
       "    </tr>\n",
       "    <tr>\n",
       "      <th>100007.0</th>\n",
       "      <td>1.0</td>\n",
       "      <td>1</td>\n",
       "      <td>28d9ad350afeaab8027513a3e52ac8d5</td>\n",
       "      <td>2016-04-18 02:22:02</td>\n",
       "      <td>Building Amenities - Garage - Garden - fitness...</td>\n",
       "      <td>East 49th Street</td>\n",
       "      <td>[Hardwood Floors, No Fee]</td>\n",
       "      <td>low</td>\n",
       "      <td>40.7539</td>\n",
       "      <td>6888711</td>\n",
       "      <td>...</td>\n",
       "      <td>0.0</td>\n",
       "      <td>0.0</td>\n",
       "      <td>0.0</td>\n",
       "      <td>0.0</td>\n",
       "      <td>0.0</td>\n",
       "      <td>0.0</td>\n",
       "      <td>0.0</td>\n",
       "      <td>0.0</td>\n",
       "      <td>0.0</td>\n",
       "      <td>0.0</td>\n",
       "    </tr>\n",
       "    <tr>\n",
       "      <th>100013.0</th>\n",
       "      <td>1.0</td>\n",
       "      <td>4</td>\n",
       "      <td>0</td>\n",
       "      <td>2016-04-28 01:32:41</td>\n",
       "      <td>Beautifully renovated 3 bedroom flex 4 bedroom...</td>\n",
       "      <td>West 143rd Street</td>\n",
       "      <td>[Pre-War]</td>\n",
       "      <td>low</td>\n",
       "      <td>40.8241</td>\n",
       "      <td>6934781</td>\n",
       "      <td>...</td>\n",
       "      <td>0.0</td>\n",
       "      <td>0.0</td>\n",
       "      <td>0.0</td>\n",
       "      <td>0.0</td>\n",
       "      <td>0.0</td>\n",
       "      <td>0.0</td>\n",
       "      <td>0.0</td>\n",
       "      <td>0.0</td>\n",
       "      <td>0.0</td>\n",
       "      <td>0.0</td>\n",
       "    </tr>\n",
       "  </tbody>\n",
       "</table>\n",
       "<p>5 rows × 10268 columns</p>\n",
       "</div>"
      ],
      "text/plain": [
       "          bathrooms  bedrooms                       building_id  \\\n",
       "10.0            1.5         3  53a5b119ba8f7b61d4e010512e0dfc85   \n",
       "10000.0         1.0         2  c5c8a357cba207596b04d1afd1e4f130   \n",
       "100004.0        1.0         1  c3ba40552e2120b0acfc3cb5730bb2aa   \n",
       "100007.0        1.0         1  28d9ad350afeaab8027513a3e52ac8d5   \n",
       "100013.0        1.0         4                                 0   \n",
       "\n",
       "                      created  \\\n",
       "10.0      2016-06-24 07:54:24   \n",
       "10000.0   2016-06-12 12:19:27   \n",
       "100004.0  2016-04-17 03:26:41   \n",
       "100007.0  2016-04-18 02:22:02   \n",
       "100013.0  2016-04-28 01:32:41   \n",
       "\n",
       "                                                description  \\\n",
       "10.0      A Brand New 3 Bedroom 1.5 bath ApartmentEnjoy ...   \n",
       "10000.0                                                       \n",
       "100004.0  Top Top West Village location, beautiful Pre-w...   \n",
       "100007.0  Building Amenities - Garage - Garden - fitness...   \n",
       "100013.0  Beautifully renovated 3 bedroom flex 4 bedroom...   \n",
       "\n",
       "              display_address  \\\n",
       "10.0      Metropolitan Avenue   \n",
       "10000.0       Columbus Avenue   \n",
       "100004.0          W 13 Street   \n",
       "100007.0     East 49th Street   \n",
       "100013.0    West 143rd Street   \n",
       "\n",
       "                                                   features interest_level  \\\n",
       "10.0                                                     []         medium   \n",
       "10000.0   [Doorman, Elevator, Fitness Center, Cats Allow...            low   \n",
       "100004.0  [Laundry In Building, Dishwasher, Hardwood Flo...           high   \n",
       "100007.0                          [Hardwood Floors, No Fee]            low   \n",
       "100013.0                                          [Pre-War]            low   \n",
       "\n",
       "          latitude  listing_id              ...                \\\n",
       "10.0       40.7145     7211212              ...                 \n",
       "10000.0    40.7947     7150865              ...                 \n",
       "100004.0   40.7388     6887163              ...                 \n",
       "100007.0   40.7539     6888711              ...                 \n",
       "100013.0   40.8241     6934781              ...                 \n",
       "\n",
       "          renovatedspaciousmust seejune 1st occupancy terracePrivate terrace  \\\n",
       "10.0                                              NaN                    NaN   \n",
       "10000.0                                           0.0                    0.0   \n",
       "100004.0                                          0.0                    0.0   \n",
       "100007.0                                          0.0                    0.0   \n",
       "100013.0                                          0.0                    0.0   \n",
       "\n",
       "         terraceWasher/DryerPre-WarPrivate terrace  \\\n",
       "10.0                                           NaN   \n",
       "10000.0                                        0.0   \n",
       "100004.0                                       0.0   \n",
       "100007.0                                       0.0   \n",
       "100013.0                                       0.0   \n",
       "\n",
       "          terraceviewCity viewDuplexPrivate outdoor spacePrivate terrace  \\\n",
       "10.0                                                    NaN                \n",
       "10000.0                                                 0.0                \n",
       "100004.0                                                0.0                \n",
       "100007.0                                                0.0                \n",
       "100013.0                                                0.0                \n",
       "\n",
       "         viewCity viewDishwasherNewly renovatedNo petsPre-War  \\\n",
       "10.0                                                    NaN     \n",
       "10000.0                                                 0.0     \n",
       "100004.0                                                0.0     \n",
       "100007.0                                                0.0     \n",
       "100013.0                                                0.0     \n",
       "\n",
       "          viewDishwasherDuplexNewly renovatedPark viewWasher/DryerCats AllowedDogs Allowed  \\\n",
       "10.0                                                    NaN                                  \n",
       "10000.0                                                 0.0                                  \n",
       "100004.0                                                0.0                                  \n",
       "100007.0                                                0.0                                  \n",
       "100013.0                                                0.0                                  \n",
       "\n",
       "          viewElevatorAir conditioningCity viewDishwasherWasher/DryerCommon parking/GarageCommon roof deckLive-in superintendentNew constructionCats AllowedDogs AllowedStorage  \\\n",
       "10.0                                                    NaN                                                                                                                       \n",
       "10000.0                                                 0.0                                                                                                                       \n",
       "100004.0                                                0.0                                                                                                                       \n",
       "100007.0                                                0.0                                                                                                                       \n",
       "100013.0                                                0.0                                                                                                                       \n",
       "\n",
       "          viewElevatorAir conditioningNewly renovatedPark viewNo petsOn-site laundry  \\\n",
       "10.0                                                    NaN                            \n",
       "10000.0                                                 0.0                            \n",
       "100004.0                                                0.0                            \n",
       "100007.0                                                0.0                            \n",
       "100013.0                                                0.0                            \n",
       "\n",
       "          viewElevatorDishwasherNewly renovatedPark viewStorageLive-in superintendentOn-site laundryCats AllowedDogs AllowedPets on approvalPre-War  \\\n",
       "10.0                                                    NaN                                                                                           \n",
       "10000.0                                                 0.0                                                                                           \n",
       "100004.0                                                0.0                                                                                           \n",
       "100007.0                                                0.0                                                                                           \n",
       "100013.0                                                0.0                                                                                           \n",
       "\n",
       "          viewFireplacePark viewPre-War  \n",
       "10.0                                NaN  \n",
       "10000.0                             0.0  \n",
       "100004.0                            0.0  \n",
       "100007.0                            0.0  \n",
       "100013.0                            0.0  \n",
       "\n",
       "[5 rows x 10268 columns]"
      ]
     },
     "execution_count": 10,
     "metadata": {},
     "output_type": "execute_result"
    }
   ],
   "source": [
    "train_with_dummies.head()"
   ]
  },
  {
   "cell_type": "code",
   "execution_count": 9,
   "metadata": {
    "collapsed": false
   },
   "outputs": [
    {
     "data": {
      "text/plain": [
       "49352"
      ]
     },
     "execution_count": 9,
     "metadata": {},
     "output_type": "execute_result"
    }
   ],
   "source": [
    "# Check that the dataframe still has all rows.\n",
    "len(train_with_dummies)"
   ]
  },
  {
   "cell_type": "code",
   "execution_count": 11,
   "metadata": {
    "collapsed": false
   },
   "outputs": [
    {
     "data": {
      "text/plain": [
       "10268"
      ]
     },
     "execution_count": 11,
     "metadata": {},
     "output_type": "execute_result"
    }
   ],
   "source": [
    "# See how many columns are now in the dataframe\n",
    "len(train_with_dummies.columns)"
   ]
  },
  {
   "cell_type": "code",
   "execution_count": 12,
   "metadata": {
    "collapsed": false
   },
   "outputs": [
    {
     "data": {
      "text/plain": [
       "Index([u'bathrooms', u'bedrooms', u'building_id', u'created', u'description',\n",
       "       u'display_address', u'features', u'interest_level', u'latitude',\n",
       "       u'listing_id', u'longitude', u'manager_id', u'photos', u'price',\n",
       "       u'street_address'],\n",
       "      dtype='object')"
      ]
     },
     "execution_count": 12,
     "metadata": {},
     "output_type": "execute_result"
    }
   ],
   "source": [
    "# Now let's look at other columns in the 'train' dataframe\n",
    "train.columns"
   ]
  },
  {
   "cell_type": "code",
   "execution_count": 38,
   "metadata": {
    "collapsed": false
   },
   "outputs": [
    {
     "data": {
      "image/png": "[encoded data removed]",
      "text/plain": [
       "<matplotlib.figure.Figure at 0x10bc96f90>"
      ]
     },
     "metadata": {},
     "output_type": "display_data"
    }
   ],
   "source": [
    "# XKCD style plotting!\n",
    "plt.xkcd\n",
    "\n",
    "# Create a dataframe with summary statistics by number of bedrooms.\n",
    "df_by_bedroom = pd.DataFrame(columns = ['bedrooms','count','price'])\n",
    "df_by_bedroom['bedrooms'] = train.bedrooms[train.bedrooms.notnull()].unique().astype(int)\n",
    "df_by_bedroom.sort_values(by='bedrooms',inplace=True)\n",
    "df_by_bedroom.reset_index(drop=True,inplace=True)\n",
    "for i in range(0,len(df_by_bedroom.index),1):\n",
    "    df_by_bedroom['count'].loc[i] = train[train.bedrooms==i].bedrooms.count()\n",
    "    df_by_bedroom['price'].loc[i] = train[train.bedrooms==i].price.mean()\n",
    "\n",
    "# Plots to visualise results by number of bedrooms.\n",
    "x_ticks = range(0,train['bedrooms'].max()+1,1)\n",
    "\n",
    "plt.figure(figsize=(8,12))\n",
    "\n",
    "plt.subplot(2,1,1)\n",
    "plt.bar(df_by_bedroom['bedrooms'],df_by_bedroom['count'],align='center')\n",
    "plt.xlabel('no. bedrooms')\n",
    "plt.ylabel('no. listings')\n",
    "plt.xticks(x_ticks)\n",
    "plt.title('count by number of bedrooms')\n",
    "plt.ticklabel_format(style='plain')\n",
    "\n",
    "plt.subplot(2,1,2)\n",
    "plt.bar(df_by_bedroom['bedrooms'],df_by_bedroom['price'],align='center')\n",
    "plt.xlabel('no. bedrooms')\n",
    "plt.ylabel('average price')\n",
    "plt.xticks(x_ticks)\n",
    "plt.title('average price by number of bedrooms')\n",
    "plt.ticklabel_format(style='plain')\n",
    "plt.show()"
   ]
  },
  {
   "cell_type": "code",
   "execution_count": 19,
   "metadata": {
    "collapsed": false
   },
   "outputs": [
    {
     "data": {
      "text/plain": [
       "0                                   8286\n",
       "96274288c84ddd7d5c5d8e425ee75027     275\n",
       "11e1dec9d14b1a9e528386a2504b3afc     215\n",
       "80a120d6bc3aba97f40fee8c2204524b     213\n",
       "bb8658a3e432fb62a440615333376345     212\n",
       "f68bf347f99df026f4faad43cc604048     191\n",
       "c94301249b8c09429d329864d58e5b82     167\n",
       "ce6d18bf3238e668b2bf23f4110b7b67     165\n",
       "57ef86c28a8ae482dc3a3c3af28e8e48     159\n",
       "128d4af0683efc5e1eded8dc8044d5e3     153\n",
       "d0234abbc01a982d54e8d446acc03405     152\n",
       "9c18bf871b97492b96d8ddb800591f1b     147\n",
       "8e3b8c607c3edcf3de131c24f0390179     141\n",
       "cb14c4f807f23ecee1f7469b5159d2de     141\n",
       "ea9045106c4e1fe52853b6af941f1c69     139\n",
       "7967a1280bf3f7644500fc79d2696b0e     133\n",
       "a01c99eb2cfdde327e1691e17d6696ba     131\n",
       "093f64f52a6e43ba5e8f12bec8200554     128\n",
       "18f6eb16d2f3e9885cb4a5d0a40791c6     127\n",
       "5565db9b7cba3603834c4aa6f2950960     126\n",
       "dd7b281c0dbafc8b53575ab78cca75d4     125\n",
       "3a956bd42c50f06ac84cf072fc514f5f     123\n",
       "6ce872b483cfcbb32ea805604d44ef5f     120\n",
       "ec12b4db154a9c75983f5e32edd93843     116\n",
       "aed67db466854ec2aa5d249a032bc401     115\n",
       "93cd24891f8423d45ac587ab1fdb1225     115\n",
       "80911ce8a425daf4989ea8a4bccc41a7     112\n",
       "1be9c496f7bdff4a552e3d4e91f915f8     111\n",
       "300d27d8ba2adbcbc8c6f2bcbc1c6f9d     110\n",
       "c40e3e74475a91aae1928541be8df678     108\n",
       "                                    ... \n",
       "14bfc735eb5f0e5b5f021be779109b47       1\n",
       "146519781d1e7522d0592ca9b7da821a       1\n",
       "135ba0d3740cf3c8847af61ba7184afd       1\n",
       "d9ddaf188ceb3ff0d1fdf135251a1a45       1\n",
       "a026bc8d3af60004e3980bd3b509b20f       1\n",
       "64cb302ba98561da16f05bf6b0dc7ebb       1\n",
       "6f6d164b3193c31cd9b4932c977f81b8       1\n",
       "a3eec4d07270a796e5d476014b91f4cf       1\n",
       "5575e5c10c5180e023fb71bd52d5cddf       1\n",
       "9724008cbb80d3cd697109dba551db92       1\n",
       "2d627df94c363f94bbf2353e604ad104       1\n",
       "0d3daf4454b77ee636e4b25a0ade5ce4       1\n",
       "ba5b398e244e37d6e038318b81eee6aa       1\n",
       "fbb14b55a6c6b865f6f38e4d135e7ccd       1\n",
       "1ba0e5a394a1405f67127b94c1aaed58       1\n",
       "b267c4849eb4f42b96b0447a4b4dc5f6       1\n",
       "51052daba3eae7ee4e27bf436f7eb5a9       1\n",
       "7f3633f71aee2a7f11101ad8052bc7a4       1\n",
       "926610229ce73a2dceed9325ee444e53       1\n",
       "bc26287aee530d63d4b4f41a2405d2ce       1\n",
       "06a984d08e34bc1bb03b744e1304b4f2       1\n",
       "4f0d0c45f88fe784b97e78a84fa2e7f5       1\n",
       "7d6bf23b3ca942adcc08c153eb8318ef       1\n",
       "8ee6d4cf41598451d6062376fb172765       1\n",
       "38b2dc4c4299826852b85552b511aac4       1\n",
       "15aabdba9e7e7ee006bacf6ef20d79e2       1\n",
       "53fa8dc54189f3453123d934109575cc       1\n",
       "5df28817cac77710baa3b3792b2dfe1f       1\n",
       "cf1b18c6300f761dc4f99daaa0d8f8a6       1\n",
       "6cb8e72cde2b2897468dd710b1488ada       1\n",
       "Name: building_id, dtype: int64"
      ]
     },
     "execution_count": 19,
     "metadata": {},
     "output_type": "execute_result"
    }
   ],
   "source": [
    "train.building_id.value_counts()"
   ]
  },
  {
   "cell_type": "code",
   "execution_count": 20,
   "metadata": {
    "collapsed": false
   },
   "outputs": [
    {
     "data": {
      "text/plain": [
       "7585"
      ]
     },
     "execution_count": 20,
     "metadata": {},
     "output_type": "execute_result"
    }
   ],
   "source": [
    "len(train.building_id.unique())"
   ]
  },
  {
   "cell_type": "code",
   "execution_count": 21,
   "metadata": {
    "collapsed": false
   },
   "outputs": [
    {
     "data": {
      "text/plain": [
       "e6472c7237327dd3903b3d6f6a94515a    2533\n",
       "6e5c10246156ae5bdcd9b487ca99d96a     711\n",
       "8f5a9c893f6d602f4953fcc0b8e6e9b4     410\n",
       "62b685cc0d876c3a1a51d63a0d6a8082     402\n",
       "cb87dadbca78fad02b388dc9e8f25a5b     373\n",
       "9df32cb8dda19d3222d66e69e258616b     330\n",
       "b7de4cb395920136663132057fa89d84     320\n",
       "2aa9bfa5f67ed9997ea341dee8a3a271     316\n",
       "ad3d8ddc52c7e0859b5c6c7f7949c3bd     305\n",
       "c9c33695ee2a2f818e9f1d8f7d1c4b39     299\n",
       "1fb46c4a72bcf764ac35fc23f394760d     289\n",
       "d2bce61e0e0079ebdc8c281e415e045b     276\n",
       "5599e962719af3ccc2976855c2d5893c     256\n",
       "aa9e353a6b43b125cbc89cb751090a9e     246\n",
       "62826f3ae01f2ddc93b9cd28c659ab2b     233\n",
       "8b53ccf4338806ab1be3dd0267711649     222\n",
       "612a00076aefe8c98d1df4835640c74b     214\n",
       "dbbb6b990661b1e507a387f019bcb1a0     212\n",
       "b209e2c4384a64cc307c26759ee0c651     210\n",
       "8262449f40e9117f7a9ea49b4a333993     210\n",
       "fc81b75568d3655a922523cb0d77ea5b     206\n",
       "d1737922fe92ccb0dc37ba85589e6415     198\n",
       "1067e078446a7897d2da493d2f741316     191\n",
       "501b52559fd21b32808030a0f4fb1a26     170\n",
       "02e17b21a1814fb10336b2ee8ceb3e79     170\n",
       "381040570cc863b743a9fce1a6ae9724     169\n",
       "30a7951cfc21240e8c46b2d079d292e5     169\n",
       "eb5a6c4c2eb6f3e2a085c477afd5a815     168\n",
       "d399821d8583b8421a55370c6eb15f6f     167\n",
       "9d32b720e26a351b951c8f78f72f2fec     164\n",
       "                                    ... \n",
       "61d4cfbc02bca2d75b11d2c41a72b74d       1\n",
       "bf077b3e472557cb660271eafe1629aa       1\n",
       "d15dbe3693748487fbcde36ad812b99d       1\n",
       "d526ea0a2d75c9675db9f07fd0518e00       1\n",
       "c4ddf4fd05745f2ec3d41f26e86a1d15       1\n",
       "2d1d30f24cd9349653d3809a0963f1e7       1\n",
       "05d7fb44bfc1158be06932655f7a68b8       1\n",
       "034d12162b2cfc231942a299a01f4d64       1\n",
       "95de8deff8f7c2ad56e055acbcdc9901       1\n",
       "b6a14c06a52f4c3f435e120de72e561b       1\n",
       "fe1aa4cf79b22146929b836739fec8ec       1\n",
       "53a4522e582e57680a06fdb4169e488f       1\n",
       "44f88993b340ce5a2518a7103aaa623c       1\n",
       "ba55ec16bd1948bac81e542448684e0d       1\n",
       "8e62f602c0a251577abeb2411f889401       1\n",
       "dfa74d6159ef96095240d13d3b3d739c       1\n",
       "a83d50b2dfaea97d7feca48d195432d6       1\n",
       "200325953ecf046d357441e6f87e01d1       1\n",
       "38305c94ad0a497b25e8542a7beed2e9       1\n",
       "cafbdfef5057e329323a17032b300440       1\n",
       "9680e686d9f2824c0d331040cdc51ec7       1\n",
       "1d019cccf631394cd7f2aba471a54ca4       1\n",
       "3ffb3a452da37ef07a63953b83a3429d       1\n",
       "67d9eb08db9724a3b204601e6905a84f       1\n",
       "d3814e9d4e0179179d7097da44a31a3c       1\n",
       "68ddaf5fce08ee1c72a846842c375454       1\n",
       "fcc1b615b07a6e279a6267cf71302374       1\n",
       "082f0b1355054203d9c6f6fb4836cca4       1\n",
       "621061551a6c2d0186353c4f124bda3d       1\n",
       "3fffe20e7dd4c6016b4dd25f7bd0d7c0       1\n",
       "Name: manager_id, dtype: int64"
      ]
     },
     "execution_count": 21,
     "metadata": {},
     "output_type": "execute_result"
    }
   ],
   "source": [
    "train.manager_id.value_counts()"
   ]
  },
  {
   "cell_type": "code",
   "execution_count": 22,
   "metadata": {
    "collapsed": false
   },
   "outputs": [
    {
     "data": {
      "text/plain": [
       "3481"
      ]
     },
     "execution_count": 22,
     "metadata": {},
     "output_type": "execute_result"
    }
   ],
   "source": [
    "len(train.manager_id.unique())"
   ]
  },
  {
   "cell_type": "code",
   "execution_count": 27,
   "metadata": {
    "collapsed": false
   },
   "outputs": [],
   "source": [
    "# Create a new column for 'number of photos'\n",
    "train['number_photos'] = 0\n",
    "photos_loc = train.columns.get_loc('photos')\n",
    "number_photos_loc = train.columns.get_loc('number_photos')\n",
    "for i in range(0,len(train),1):\n",
    "    train.iloc[i,number_photos_loc] = len(train.iloc[i,photos_loc])"
   ]
  },
  {
   "cell_type": "code",
   "execution_count": 29,
   "metadata": {
    "collapsed": false
   },
   "outputs": [
    {
     "data": {
      "text/plain": [
       "5     8733\n",
       "4     7887\n",
       "6     6739\n",
       "7     4952\n",
       "3     4553\n",
       "8     3972\n",
       "0     3615\n",
       "9     1772\n",
       "10    1390\n",
       "2     1334\n",
       "1     1178\n",
       "12     816\n",
       "11     784\n",
       "13     377\n",
       "14     232\n",
       "15     197\n",
       "16     152\n",
       "18     114\n",
       "17     109\n",
       "20      87\n",
       "22      73\n",
       "32      62\n",
       "19      53\n",
       "21      21\n",
       "26      19\n",
       "37      18\n",
       "25      17\n",
       "24      16\n",
       "23      16\n",
       "45      12\n",
       "28      11\n",
       "27       7\n",
       "38       6\n",
       "34       5\n",
       "30       5\n",
       "29       4\n",
       "36       3\n",
       "35       3\n",
       "46       2\n",
       "60       1\n",
       "50       1\n",
       "68       1\n",
       "43       1\n",
       "44       1\n",
       "31       1\n",
       "Name: number_photos, dtype: int64"
      ]
     },
     "execution_count": 29,
     "metadata": {},
     "output_type": "execute_result"
    }
   ],
   "source": [
    "train.number_photos.value_counts()"
   ]
  },
  {
   "cell_type": "code",
   "execution_count": null,
   "metadata": {
    "collapsed": true
   },
   "outputs": [],
   "source": []
  }
 ],
 "metadata": {
  "kernelspec": {
   "display_name": "Python 2",
   "language": "python",
   "name": "python2"
  },
  "language_info": {
   "codemirror_mode": {
    "name": "ipython",
    "version": 2
   },
   "file_extension": ".py",
   "mimetype": "text/x-python",
   "name": "python",
   "nbconvert_exporter": "python",
   "pygments_lexer": "ipython2",
   "version": "2.7.11"
  }
 },
 "nbformat": 4,
 "nbformat_minor": 0
}
